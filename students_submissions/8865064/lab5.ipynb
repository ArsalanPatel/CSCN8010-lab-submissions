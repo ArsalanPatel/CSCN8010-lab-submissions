{
 "cells": [
  {
   "cell_type": "markdown",
   "metadata": {},
   "source": [
    "## Lab 5\n",
    "### Arsalan Shoaib Patel - 8865064"
   ]
  },
  {
   "cell_type": "code",
   "execution_count": 30,
   "metadata": {},
   "outputs": [],
   "source": [
    "# Import necessary libraries\n",
    "from sklearn import datasets\n",
    "from sklearn.model_selection import cross_validate\n",
    "from sklearn.preprocessing import PolynomialFeatures\n",
    "from sklearn.linear_model import LinearRegression\n",
    "from sklearn.pipeline import make_pipeline\n",
    "import numpy as np\n",
    "import pandas as pd"
   ]
  },
  {
   "cell_type": "markdown",
   "metadata": {},
   "source": [
    "Loading the Dataset\n"
   ]
  },
  {
   "cell_type": "code",
   "execution_count": 31,
   "metadata": {},
   "outputs": [],
   "source": [
    "# Load the diabetes dataset\n",
    "diabetes_X, diabetes_y = datasets.load_diabetes(return_X_y=True, as_frame=True, scaled=True)"
   ]
  },
  {
   "cell_type": "markdown",
   "metadata": {},
   "source": [
    "### Utilize the diabetes dataset from lab 4. Perform cross-validation on nine polynomial models, ranging from degree 0 to 8."
   ]
  },
  {
   "cell_type": "code",
   "execution_count": 32,
   "metadata": {},
   "outputs": [
    {
     "data": {
      "text/plain": [
       "[{'fit_time': array([0.01999617, 0.02541518, 0.01294851, 0.02030087, 0.01528311]),\n",
       "  'score_time': array([0.01510382, 0.01492524, 0.01272297, 0.01124001, 0.00648522]),\n",
       "  'test_r2': array([-0.09844768, -0.02786738, -0.00053317, -0.00834192, -0.00234005]),\n",
       "  'test_neg_mean_absolute_error': array([-60.95250979, -68.32170481, -67.13591423, -63.2643811 ,\n",
       "         -70.55360812]),\n",
       "  'test_neg_mean_absolute_percentage_error': array([-0.71562223, -0.55894532, -0.62966112, -0.54258683, -0.67129571])},\n",
       " {'fit_time': array([0.01888919, 0.0158968 , 0.00886059, 0.00951815, 0.00664473]),\n",
       "  'score_time': array([0.02239513, 0.01181912, 0.0010004 , 0.00445223, 0.00620174]),\n",
       "  'test_r2': array([0.42955615, 0.52259939, 0.48268054, 0.42649776, 0.55024834]),\n",
       "  'test_neg_mean_absolute_error': array([-43.02616606, -44.8004801 , -48.1557102 , -43.0130322 ,\n",
       "         -42.3871076 ]),\n",
       "  'test_neg_mean_absolute_percentage_error': array([-0.4227016 , -0.38157807, -0.43151234, -0.34956852, -0.38894105])},\n",
       " {'fit_time': array([0.01640153, 0.01581597, 0.02463436, 0.01976085, 0.01835251]),\n",
       "  'score_time': array([0.00246549, 0.00370693, 0.00098276, 0.00313139, 0.0010097 ]),\n",
       "  'test_r2': array([0.36651372, 0.50230381, 0.44675403, 0.16812999, 0.47381055]),\n",
       "  'test_neg_mean_absolute_error': array([-45.01657162, -43.79149727, -48.45842008, -49.74349565,\n",
       "         -46.05442575]),\n",
       "  'test_neg_mean_absolute_percentage_error': array([-0.45544027, -0.38564258, -0.41404154, -0.38481194, -0.37340857])},\n",
       " {'fit_time': array([0.0914464 , 0.10317445, 0.23728323, 0.09431863, 0.07987976]),\n",
       "  'score_time': array([0.00359988, 0.00806546, 0.02459621, 0.00348473, 0.00480366]),\n",
       "  'test_r2': array([ -11.31491034,  -26.04943169,  -46.85842306, -618.75509683,\n",
       "         -208.98557661]),\n",
       "  'test_neg_mean_absolute_error': array([-152.01123596, -221.62921348, -351.19318182, -493.83484312,\n",
       "         -499.56818182]),\n",
       "  'test_neg_mean_absolute_percentage_error': array([-1.26048353, -1.48533913, -2.77577837, -2.68338725, -3.48272619])},\n",
       " {'fit_time': array([0.27158284, 0.2639029 , 0.21360636, 0.23539758, 0.24595594]),\n",
       "  'score_time': array([0.        , 0.00337982, 0.00400925, 0.00437117, 0.00422406]),\n",
       "  'test_r2': array([ -36.25183523, -175.9204233 ,  -45.66950521,  -57.55206839,\n",
       "          -37.94374951]),\n",
       "  'test_neg_mean_absolute_error': array([-231.19620255, -350.34236328, -305.4592399 , -307.94815722,\n",
       "         -320.84634309]),\n",
       "  'test_neg_mean_absolute_percentage_error': array([-1.98671135, -2.95958652, -2.22255494, -2.26890598, -2.8306669 ])},\n",
       " {'fit_time': array([0.64809179, 0.50613952, 0.48817539, 0.53704572, 0.49400759]),\n",
       "  'score_time': array([0.01219535, 0.00918102, 0.01134086, 0.00535536, 0.00979948]),\n",
       "  'test_r2': array([ -35.33817241, -168.0832383 ,  -45.40204552,  -53.08270406,\n",
       "          -35.03087324]),\n",
       "  'test_neg_mean_absolute_error': array([-227.96345866, -342.25120363, -303.94839744, -298.01395735,\n",
       "         -306.25311057]),\n",
       "  'test_neg_mean_absolute_percentage_error': array([-1.94560687, -2.9006421 , -2.24698769, -2.20918404, -2.72374277])},\n",
       " {'fit_time': array([1.28209186, 1.35002613, 1.3885355 , 1.26728392, 1.31151533]),\n",
       "  'score_time': array([0.00989461, 0.0150938 , 0.02035427, 0.019526  , 0.01727629]),\n",
       "  'test_r2': array([ -35.31427305, -168.46434535,  -45.37563633,  -53.07889873,\n",
       "          -35.00425604]),\n",
       "  'test_neg_mean_absolute_error': array([-227.91990469, -342.3363054 , -303.86752626, -297.91714114,\n",
       "         -306.11844655]),\n",
       "  'test_neg_mean_absolute_percentage_error': array([-1.94518127, -2.90188302, -2.24658037, -2.20836367, -2.72276057])},\n",
       " {'fit_time': array([4.07753754, 4.09101772, 4.01565528, 3.40756536, 5.50152683]),\n",
       "  'score_time': array([0.02753663, 0.02893329, 0.03363085, 0.0242846 , 0.03357434]),\n",
       "  'test_r2': array([ -35.31323006, -168.47059049,  -45.37688743,  -53.07854444,\n",
       "          -35.00374308]),\n",
       "  'test_neg_mean_absolute_error': array([-227.91714646, -342.33648658, -303.87145943, -297.9112371 ,\n",
       "         -306.11620395]),\n",
       "  'test_neg_mean_absolute_percentage_error': array([-1.94515668, -2.90190279, -2.24662252, -2.20832806, -2.72275664])},\n",
       " {'fit_time': array([10.50204945,  9.91393566, 10.15534782,  8.92603827,  8.21985817]),\n",
       "  'score_time': array([0.08446908, 0.04695344, 0.04416513, 0.05512238, 0.05926728]),\n",
       "  'test_r2': array([ -35.31319678, -168.47136657,  -45.3766509 ,  -53.07735519,\n",
       "          -34.99813721]),\n",
       "  'test_neg_mean_absolute_error': array([-227.91716296, -342.33747521, -303.8714492 , -297.90821054,\n",
       "         -306.05049243]),\n",
       "  'test_neg_mean_absolute_percentage_error': array([-1.94515692, -2.90190952, -2.24662538, -2.20830443, -2.72224203])}]"
      ]
     },
     "execution_count": 32,
     "metadata": {},
     "output_type": "execute_result"
    }
   ],
   "source": [
    "cv_results = []\n",
    "scoring =['r2', 'neg_mean_absolute_error', 'neg_mean_absolute_percentage_error']\n",
    "for degree in range(9):\n",
    "    model = make_pipeline(PolynomialFeatures(degree=degree), LinearRegression())\n",
    "    scores = cross_validate(model, diabetes_X, diabetes_y, cv=5, scoring=scoring)\n",
    "    cv_results.append(scores)\n",
    "cv_results"
   ]
  },
  {
   "cell_type": "markdown",
   "metadata": {},
   "source": [
    "### Construct a table summarizing the cross-validation results. Each model should have a separate row in the table. Include the R-Squared, Mean Absolute Error (MAE) and MAPE metrics for each model. Calculate the mean value and standard deviation of these metrics from the cross-validation. Include both values. "
   ]
  },
  {
   "cell_type": "code",
   "execution_count": 33,
   "metadata": {},
   "outputs": [
    {
     "name": "stdout",
     "output_type": "stream",
     "text": [
      "   Degree     R2 Mean      R2 Std    MAE Mean     MAE Std  MAPE Mean  MAPE Std\n",
      "0       0   -0.027506    0.036772   66.045624    3.474660   0.623622  0.065610\n",
      "1       1    0.482316    0.049269   44.276499    2.100110   0.394860  0.029602\n",
      "2       2    0.391502    0.120519   46.612882    2.192124   0.402669  0.029594\n",
      "3       3 -182.392688  229.433951  343.647331  140.383300   2.337543  0.837784\n",
      "4       4  -70.667516   53.160839  303.158461   39.359835   2.453685  0.375148\n",
      "5       5  -67.387407   50.797106  295.686026   37.255902   2.405233  0.352594\n",
      "6       6  -67.447482   50.957110  295.631865   37.280642   2.404954  0.353004\n",
      "7       7  -67.448599   50.959694  295.630507   37.281665   2.404953  0.353016\n",
      "8       8  -67.447341   50.960808  295.616958   37.278182   2.404848  0.352927\n"
     ]
    }
   ],
   "source": [
    "data = {\n",
    "    'Degree': [],\n",
    "    'R2 Mean': [],\n",
    "    'R2 Std': [],\n",
    "    'MAE Mean': [],\n",
    "    'MAE Std': [],\n",
    "    'MAPE Mean': [],\n",
    "    'MAPE Std': []\n",
    "}\n",
    "\n",
    "for degree in range(len(cv_results)):\n",
    "    scores = cv_results[degree]\n",
    "    data['Degree'].append(degree)\n",
    "    data['R2 Mean'].append(np.mean(scores['test_r2']))\n",
    "    data['R2 Std'].append(np.std(scores['test_r2']))\n",
    "    data['MAE Mean'].append(-np.mean(scores['test_neg_mean_absolute_error'])) \n",
    "    data['MAE Std'].append(np.std(scores['test_neg_mean_absolute_error']))\n",
    "    data['MAPE Mean'].append(-np.mean(scores['test_neg_mean_absolute_percentage_error']))  \n",
    "    data['MAPE Std'].append(np.std(scores['test_neg_mean_absolute_percentage_error']))\n",
    "\n",
    "# Create a DataFrame\n",
    "df = pd.DataFrame(data)\n",
    "\n",
    "# Display the table\n",
    "print(df)"
   ]
  },
  {
   "cell_type": "markdown",
   "metadata": {},
   "source": [
    "Having a high R2 score value(max 1) and low MAE and MAPE scores mean the model performed excellently. It has the lowest MAE and MAPE compared to all."
   ]
  },
  {
   "cell_type": "markdown",
   "metadata": {},
   "source": [
    "### Additional analysis and interpretation of the models' performances. You may explore further insights beyond the required metrics. The analysis should provide at least one relevant insight about the choice of the best model, or about characteristics of the chosen one (for example - an analysis of in which instances does it fail)"
   ]
  },
  {
   "cell_type": "markdown",
   "metadata": {},
   "source": [
    "The model with degree 1 shows relatively consistent performance across different subsets, as indicated by its lower standard deviations. A higher standard deviation indicates that the model's performance varies significantly across different subsets of the data. "
   ]
  }
 ],
 "metadata": {
  "kernelspec": {
   "display_name": "CSCN8010_classic_ml",
   "language": "python",
   "name": "cscn8010_classic_ml"
  },
  "language_info": {
   "codemirror_mode": {
    "name": "ipython",
    "version": 3
   },
   "file_extension": ".py",
   "mimetype": "text/x-python",
   "name": "python",
   "nbconvert_exporter": "python",
   "pygments_lexer": "ipython3",
   "version": "3.11.0"
  },
  "orig_nbformat": 4
 },
 "nbformat": 4,
 "nbformat_minor": 2
}
