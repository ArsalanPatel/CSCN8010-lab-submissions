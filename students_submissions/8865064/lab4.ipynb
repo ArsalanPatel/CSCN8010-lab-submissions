{
 "cells": [
  {
   "cell_type": "markdown",
   "metadata": {},
   "source": [
    "## Lab 4\n",
    "### Arsalan Shoaib Patel - 8865064"
   ]
  },
  {
   "cell_type": "code",
   "execution_count": 90,
   "metadata": {},
   "outputs": [],
   "source": [
    "# Import necessary libraries\n",
    "import numpy as np\n",
    "from sklearn.model_selection import train_test_split\n",
    "from sklearn.metrics import mean_absolute_error, r2_score \n",
    "from sklearn.linear_model import LinearRegression\n",
    "from sklearn.preprocessing import PolynomialFeatures\n",
    "from sklearn import datasets"
   ]
  },
  {
   "cell_type": "markdown",
   "metadata": {},
   "source": [
    "Loading the Dataset\n"
   ]
  },
  {
   "cell_type": "code",
   "execution_count": 91,
   "metadata": {},
   "outputs": [],
   "source": [
    "# Load the diabetes dataset\n",
    "diabetes_X, diabetes_y = datasets.load_diabetes(return_X_y=True, as_frame=True, scaled=True)\n",
    "# Splitting the data into sets for training/testing \n",
    "X_train, X_test, y_train, y_test = train_test_split(diabetes_X, diabetes_y, test_size=0.2, random_state=27)\n"
   ]
  },
  {
   "cell_type": "markdown",
   "metadata": {},
   "source": [
    "### Run a multivariate linear regression on all variables"
   ]
  },
  {
   "cell_type": "code",
   "execution_count": 92,
   "metadata": {},
   "outputs": [],
   "source": [
    "# Create linear regression object and train the model using the training sets\n",
    "modelMultivariate = LinearRegression().fit(X_train, y_train)\n",
    "y_pred = modelMultivariate.predict(X_test)\n",
    "\n",
    "\n",
    "y_test, y_pred = np.array(y_test), np.array(y_pred)\n",
    "MAPE_ofMultivariate = np.mean(np.abs((y_test- y_pred) / y_test)) * 100\n",
    "MAE_ofMultivariate = mean_absolute_error(y_test, y_pred)\n",
    "R2_ofMultivariate = r2_score(y_test, y_pred)\n",
    "\n",
    "\n"
   ]
  },
  {
   "cell_type": "markdown",
   "metadata": {},
   "source": [
    "### Run a polynomial regression of the 2nd degree on the BMI feature alone "
   ]
  },
  {
   "cell_type": "code",
   "execution_count": 93,
   "metadata": {},
   "outputs": [],
   "source": [
    "#body mass index column\n",
    "diabetes_X = diabetes_X[['bmi']]\n",
    "# Splitting the data into sets for training/testing \n",
    "X_train, X_test, y_train, y_test = train_test_split(diabetes_X, diabetes_y, test_size=0.2, random_state=27)\n",
    "\n",
    "#fit_transform so that it learns the training data structure \n",
    "fitInstance = PolynomialFeatures(degree=2).fit(X_train)\n",
    "getFeatures_PolyReg = fitInstance.get_feature_names_out()\n",
    "poly_diabetes_X_train = fitInstance.transform(X_train) \n",
    "poly_diabetes_X_test = fitInstance.transform(X_test)\n",
    "\n",
    "modelPolyReg = LinearRegression().fit(poly_diabetes_X_train, y_train)\n",
    "# Make predictions\n",
    "y_pred = modelPolyReg.predict(poly_diabetes_X_test)\n",
    "\n",
    "y_test, y_pred = np.array(y_test), np.array(y_pred)\n",
    "MAPE_ofPolyReg = np.mean(np.abs((y_test- y_pred) / y_test)) * 100\n",
    "MAE_ofPolyReg = mean_absolute_error(y_test, y_pred)\n",
    "R2_ofPolyReg = r2_score(y_test, y_pred)"
   ]
  },
  {
   "cell_type": "markdown",
   "metadata": {},
   "source": [
    "### Run a multivariate polynomial regression of the 2nd degree on all variables (Hint: set include_bias=False in PolynomialFeatures)"
   ]
  },
  {
   "cell_type": "code",
   "execution_count": 94,
   "metadata": {},
   "outputs": [],
   "source": [
    "diabetes_X, diabetes_y = datasets.load_diabetes(return_X_y=True, as_frame=True, scaled=True)\n",
    "# Splitting the data into sets for training/testing \n",
    "X_train, X_test, y_train, y_test = train_test_split(diabetes_X, diabetes_y, test_size=0.2, random_state=27)\n",
    "\n",
    "#fit_transform so that it learns the training data structure \n",
    "fitInstance = PolynomialFeatures(degree=2, include_bias=False).fit(X_train)\n",
    "getFeatures_PolyRegAllV= fitInstance.get_feature_names_out()\n",
    "poly_diabetes_X_train = fitInstance.transform(X_train) \n",
    "poly_diabetes_X_test = fitInstance.transform(X_test)\n",
    "\n",
    "modelPolyRegAllV = LinearRegression().fit(poly_diabetes_X_train, y_train)\n",
    "# Make predictions\n",
    "y_pred = modelPolyRegAllV.predict(poly_diabetes_X_test)\n",
    "\n",
    "y_test, y_pred = np.array(y_test), np.array(y_pred)\n",
    "MAPE_ofPolyRegAllV = np.mean(np.abs((y_test- y_pred) / y_test)) * 100\n",
    "MAE_ofPolyRegAllV= mean_absolute_error(y_test, y_pred)\n",
    "R2_ofPolyRegAllV = r2_score(y_test, y_pred)\n",
    "\n"
   ]
  },
  {
   "cell_type": "code",
   "execution_count": 95,
   "metadata": {},
   "outputs": [
    {
     "name": "stdout",
     "output_type": "stream",
     "text": [
      "MAE of multivariate linear regression on all variables: 41.51059644018988\n",
      "MAE of polynomial regression of the 2nd degree on the BMI feature alone : 49.85146453043094\n",
      "MAE of polynomial regression of the 2nd degree on all variables: 40.229043155321676 \n",
      "\n",
      "MAPE of multivariate linear regression on all variables: 30.734736734190005\n",
      "MAPE of polynomial regression of the 2nd degree on the BMI feature alone : 37.13900878734221\n",
      "MAPE of polynomial regression of the 2nd degree on all variables: 29.219676698452844 \n",
      "\n",
      "R2 of multivariate linear regression on all variables: 0.39534495486934396\n",
      "R2 of polynomial regression of the 2nd degree on the BMI feature alone : 0.18526685312415414\n",
      "R2 of polynomial regression of the 2nd degree on all variables: 0.379892120349385\n"
     ]
    }
   ],
   "source": [
    "print(\"MAE of multivariate linear regression on all variables:\",MAE_ofMultivariate)\n",
    "print(\"MAE of polynomial regression of the 2nd degree on the BMI feature alone :\",MAE_ofPolyReg)\n",
    "print(\"MAE of polynomial regression of the 2nd degree on all variables:\",MAE_ofPolyRegAllV,\"\\n\")\n",
    "\n",
    "print(\"MAPE of multivariate linear regression on all variables:\",MAPE_ofMultivariate)\n",
    "print(\"MAPE of polynomial regression of the 2nd degree on the BMI feature alone :\",MAPE_ofPolyReg)\n",
    "print(\"MAPE of polynomial regression of the 2nd degree on all variables:\",MAPE_ofPolyRegAllV,\"\\n\")\n",
    "\n",
    "print(\"R2 of multivariate linear regression on all variables:\",R2_ofMultivariate)\n",
    "print(\"R2 of polynomial regression of the 2nd degree on the BMI feature alone :\",R2_ofPolyReg)\n",
    "print(\"R2 of polynomial regression of the 2nd degree on all variables:\",R2_ofPolyRegAllV)\n"
   ]
  },
  {
   "cell_type": "markdown",
   "metadata": {},
   "source": [
    "* The mean absolute error is amount of errors on average a model makes while the mean absolute percentage error is the percentage of errors on average of a model. \n",
    "* The R Squared value is how good is our model for prediction. The more is its near one the better the model\n",
    "* MAE and MAPE of \"The Polynomial Regression on all variables\" model is better than both the others, suggesting it's the most accurate model on average. The \"Multivariate Linear Regression\" model has a greater R-squared value than the other two too. "
   ]
  },
  {
   "cell_type": "code",
   "execution_count": 96,
   "metadata": {},
   "outputs": [
    {
     "name": "stdout",
     "output_type": "stream",
     "text": [
      "Parameters of multivariate linear regression on all variables: 11\n",
      "Parameters of polynomial regression of the 2nd degree on the BMI feature alone: 3\n",
      "Parameters of polynomial regression of the 2nd degree on all variables: 65\n"
     ]
    }
   ],
   "source": [
    "print(\"Parameters of multivariate linear regression on all variables:\", 11)\n",
    "print(\"Parameters of polynomial regression of the 2nd degree on the BMI feature alone:\",len(getFeatures_PolyReg))\n",
    "print(\"Parameters of polynomial regression of the 2nd degree on all variables:\",len(getFeatures_PolyRegAllV))"
   ]
  },
  {
   "cell_type": "markdown",
   "metadata": {},
   "source": [
    "I would chose \"The Polynomial Regression on all variables\" because of its MAE, MAPE and R2 values are better compared to the other two."
   ]
  }
 ],
 "metadata": {
  "kernelspec": {
   "display_name": "CSCN8010_classic_ml",
   "language": "python",
   "name": "cscn8010_classic_ml"
  },
  "language_info": {
   "codemirror_mode": {
    "name": "ipython",
    "version": 3
   },
   "file_extension": ".py",
   "mimetype": "text/x-python",
   "name": "python",
   "nbconvert_exporter": "python",
   "pygments_lexer": "ipython3",
   "version": "3.11.0"
  },
  "orig_nbformat": 4
 },
 "nbformat": 4,
 "nbformat_minor": 2
}
